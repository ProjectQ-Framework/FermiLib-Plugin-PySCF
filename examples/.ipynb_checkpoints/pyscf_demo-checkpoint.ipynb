{
 "cells": [
  {
   "cell_type": "markdown",
   "metadata": {},
   "source": [
    "## Running pyscf to populate the MolecularData class\n",
    "\n",
    "The module run_pyscf.py provides a user-friendly way of running psi4 calculations in FermiLib. The basic idea is that once one generates a MolecularData instance, one can then call pyscf with a specification of certain options (for instance, how much memory to use and what calculations to do) in order to compute things about the molecule, update the MolecularData object, and save results of the calculation. The most common calculations users will want in FermiLib would probably be self-consistent field (aka Hartree-Fock calculations). Our code uses these \"SCF\" calculations compute orbitals, integrals, Hartree-Fock energy, and more. Other common calculations are CISD and FCI calculations which also compute the 1-RDM and 2-RDM associated with their answers, CCSD calculations which also compute the CCSD amplitudes (useful for UCC) and MP2 calculations which can also be used to UCCSD initial guesses. \n",
    "Note that the \"delete_input\" and \"delete_output\" options indicate whether to save automatically generated psi4 input files or not. To use this plugin, you will need to personally download pyscf.\n",
    "\n",
    "Warnings: electronic structure calculations are finicky. They sometimes fail for surprising reasons. See the pyscf documentation for more information or consult and electronic structure theory expert."
   ]
  },
  {
   "cell_type": "code",
   "execution_count": 4,
   "metadata": {
    "collapsed": false
   },
   "outputs": [
    {
     "name": "stderr",
     "output_type": "stream",
     "text": [
      "Warn: Ipython shell catchs sys.args\n"
     ]
    },
    {
     "name": "stdout",
     "output_type": "stream",
     "text": [
      "\n",
      "At bond length of 0.24 Bohr, molecular hydrogen has:\n",
      "Hartree-Fock energy of -0.229218508377 Hartree.\n",
      "MP2 energy of -0.23464265088 Hartree.\n",
      "FCI energy of -0.236362211451 Hartree.\n",
      "Nuclear repulsion energy between protons is 2.2049050455 Hartree.\n",
      "Spatial orbital 0 has energy of -0.837216905943 Hartree.\n",
      "Spatial orbital 1 has energy of 1.49307953167 Hartree.\n",
      "\n",
      "At bond length of 0.28 Bohr, molecular hydrogen has:\n",
      "Hartree-Fock energy of -0.493707407859 Hartree.\n",
      "MP2 energy of -0.499472795702 Hartree.\n",
      "FCI energy of -0.501385024059 Hartree.\n",
      "Nuclear repulsion energy between protons is 1.88991861043 Hartree.\n",
      "Spatial orbital 0 has energy of -0.81445721315 Hartree.\n",
      "Spatial orbital 1 has energy of 1.41054139499 Hartree.\n"
     ]
    },
    {
     "name": "stderr",
     "output_type": "stream",
     "text": [
      "Warn: Ipython shell catchs sys.args\n",
      "Warn: Ipython shell catchs sys.args\n"
     ]
    },
    {
     "name": "stdout",
     "output_type": "stream",
     "text": [
      "\n",
      "At bond length of 0.32 Bohr, molecular hydrogen has:\n",
      "Hartree-Fock energy of -0.677984126307 Hartree.\n",
      "MP2 energy of -0.68413901141 Hartree.\n",
      "FCI energy of -0.686279510435 Hartree.\n",
      "Nuclear repulsion energy between protons is 1.65367878413 Hartree.\n",
      "Spatial orbital 0 has energy of -0.791230475601 Hartree.\n",
      "Spatial orbital 1 has energy of 1.32749759623 Hartree.\n",
      "\n",
      "At bond length of 0.36 Bohr, molecular hydrogen has:\n",
      "Hartree-Fock energy of -0.80937407891 Hartree.\n",
      "MP2 energy of -0.815965812454 Hartree.\n",
      "FCI energy of -0.818372374091 Hartree.\n",
      "Nuclear repulsion energy between protons is 1.469936697 Hartree.\n",
      "Spatial orbital 0 has energy of -0.768038149704 Hartree.\n",
      "Spatial orbital 1 has energy of 1.24598995636 Hartree.\n"
     ]
    },
    {
     "name": "stderr",
     "output_type": "stream",
     "text": [
      "Warn: Ipython shell catchs sys.args\n",
      "Warn: Ipython shell catchs sys.args\n"
     ]
    },
    {
     "name": "stdout",
     "output_type": "stream",
     "text": [
      "\n",
      "At bond length of 0.4 Bohr, molecular hydrogen has:\n",
      "Hartree-Fock energy of -0.904361394164 Hartree.\n",
      "MP2 energy of -0.911436819061 Hartree.\n",
      "FCI energy of -0.914149704627 Hartree.\n",
      "Nuclear repulsion energy between protons is 1.3229430273 Hartree.\n",
      "Spatial orbital 0 has energy of -0.745212534285 Hartree.\n",
      "Spatial orbital 1 has energy of 1.16741639842 Hartree.\n",
      "\n",
      "At bond length of 0.44 Bohr, molecular hydrogen has:\n",
      "Hartree-Fock energy of -0.973427552416 Hartree.\n",
      "MP2 energy of -0.981033411955 Hartree.\n",
      "FCI energy of -0.984095657684 Hartree.\n",
      "Nuclear repulsion energy between protons is 1.20267547936 Hartree.\n",
      "Spatial orbital 0 has energy of -0.722950757923 Hartree.\n",
      "Spatial orbital 1 has energy of 1.09265620894 Hartree.\n"
     ]
    },
    {
     "name": "stderr",
     "output_type": "stream",
     "text": [
      "Warn: Ipython shell catchs sys.args\n",
      "Traceback (most recent call last):\n",
      "  File \"/home/jmcclean/local/anaconda2/lib/python2.7/multiprocessing/queues.py\", line 268, in _feed\n",
      "    send(obj)\n",
      "IOError: [Errno 32] Broken pipe\n",
      "Warn: Ipython shell catchs sys.args\n"
     ]
    },
    {
     "name": "stdout",
     "output_type": "stream",
     "text": [
      "\n",
      "At bond length of 0.48 Bohr, molecular hydrogen has:\n",
      "Hartree-Fock energy of -1.02351723174 Hartree.\n",
      "MP2 energy of -1.03170052649 Hartree.\n",
      "FCI energy of -1.03515822479 Hartree.\n",
      "Nuclear repulsion energy between protons is 1.10245252275 Hartree.\n",
      "Spatial orbital 0 has energy of -0.701355095129 Hartree.\n",
      "Spatial orbital 1 has energy of 1.02220489321 Hartree.\n",
      "\n",
      "At bond length of 0.52 Bohr, molecular hydrogen has:\n",
      "Hartree-Fock energy of -1.05939669627 Hartree.\n",
      "MP2 energy of -1.06820495804 Hartree.\n",
      "FCI energy of -1.07210747021 Hartree.\n",
      "Nuclear repulsion energy between protons is 1.01764848254 Hartree.\n",
      "Spatial orbital 0 has energy of -0.680469857385 Hartree.\n",
      "Spatial orbital 1 has energy of 0.956288231839 Hartree.\n"
     ]
    },
    {
     "name": "stderr",
     "output_type": "stream",
     "text": [
      "Warn: Ipython shell catchs sys.args\n",
      "Warn: Ipython shell catchs sys.args\n"
     ]
    },
    {
     "name": "stdout",
     "output_type": "stream",
     "text": [
      "\n",
      "At bond length of 0.56 Bohr, molecular hydrogen has:\n",
      "Hartree-Fock energy of -1.08444449445 Hartree.\n",
      "MP2 energy of -1.09392598839 Hartree.\n",
      "FCI energy of -1.09832607156 Hartree.\n",
      "Nuclear repulsion energy between protons is 0.944959305214 Hartree.\n",
      "Spatial orbital 0 has energy of -0.660309476015 Hartree.\n",
      "Spatial orbital 1 has energy of 0.89494547452 Hartree.\n",
      "\n",
      "At bond length of 0.6 Bohr, molecular hydrogen has:\n",
      "Hartree-Fock energy of -1.10112824227 Hartree.\n",
      "MP2 energy of -1.1113321393 Hartree.\n",
      "FCI energy of -1.11628600687 Hartree.\n",
      "Nuclear repulsion energy between protons is 0.8819620182 Hartree.\n",
      "Spatial orbital 0 has energy of -0.640876265659 Hartree.\n",
      "Spatial orbital 1 has energy of 0.83808498176 Hartree.\n"
     ]
    },
    {
     "name": "stderr",
     "output_type": "stream",
     "text": [
      "Warn: Ipython shell catchs sys.args\n",
      "Warn: Ipython shell catchs sys.args\n"
     ]
    },
    {
     "name": "stdout",
     "output_type": "stream",
     "text": [
      "\n",
      "At bond length of 0.64 Bohr, molecular hydrogen has:\n",
      "Hartree-Fock energy of -1.11129819406 Hartree.\n",
      "MP2 energy of -1.12227476737 Hartree.\n",
      "FCI energy of -1.12784213296 Hartree.\n",
      "Nuclear repulsion energy between protons is 0.826839392063 Hartree.\n",
      "Spatial orbital 0 has energy of -0.622169070719 Hartree.\n",
      "Spatial orbital 1 has energy of 0.785521107492 Hartree.\n",
      "\n",
      "At bond length of 0.68 Bohr, molecular hydrogen has:\n",
      "Hartree-Fock energy of -1.11637069975 Hartree.\n",
      "MP2 energy of -1.1281715895 Hartree.\n",
      "FCI energy of -1.13441575909 Hartree.\n",
      "Nuclear repulsion energy between protons is 0.778201780765 Hartree.\n",
      "Spatial orbital 0 has energy of -0.604185418478 Hartree.\n",
      "Spatial orbital 1 has energy of 0.737000916591 Hartree.\n"
     ]
    },
    {
     "name": "stderr",
     "output_type": "stream",
     "text": [
      "Warn: Ipython shell catchs sys.args\n",
      "Warn: Ipython shell catchs sys.args\n"
     ]
    },
    {
     "name": "stdout",
     "output_type": "stream",
     "text": [
      "\n",
      "At bond length of 0.72 Bohr, molecular hydrogen has:\n",
      "Hartree-Fock energy of -1.11744507737 Hartree.\n",
      "MP2 energy of -1.13012364528 Hartree.\n",
      "FCI energy of -1.13711171512 Hartree.\n",
      "Nuclear repulsion energy between protons is 0.7349683485 Hartree.\n",
      "Spatial orbital 0 has energy of -0.586920115043 Hartree.\n",
      "Spatial orbital 1 has energy of 0.692226456426 Hartree.\n"
     ]
    },
    {
     "name": "stderr",
     "output_type": "stream",
     "text": [
      "Warn: Ipython shell catchs sys.args\n"
     ]
    },
    {
     "name": "stdout",
     "output_type": "stream",
     "text": [
      "\n",
      "At bond length of 0.76 Bohr, molecular hydrogen has:\n",
      "Hartree-Fock energy of -1.11538065929 Hartree.\n",
      "MP2 energy of -1.12899242635 Hartree.\n",
      "FCI energy of -1.13679561882 Hartree.\n",
      "Nuclear repulsion energy between protons is 0.696285803842 Hartree.\n",
      "Spatial orbital 0 has energy of -0.570362767396 Hartree.\n",
      "Spatial orbital 1 has energy of 0.650875090106 Hartree.\n"
     ]
    },
    {
     "name": "stderr",
     "output_type": "stream",
     "text": [
      "Warn: Ipython shell catchs sys.args\n"
     ]
    },
    {
     "name": "stdout",
     "output_type": "stream",
     "text": [
      "\n",
      "At bond length of 0.8 Bohr, molecular hydrogen has:\n",
      "Hartree-Fock energy of -1.11085039748 Hartree.\n",
      "MP2 energy of -1.12545353399 Hartree.\n",
      "FCI energy of -1.13414766668 Hartree.\n",
      "Nuclear repulsion energy between protons is 0.66147151365 Hartree.\n",
      "Spatial orbital 0 has energy of -0.554495881131 Hartree.\n",
      "Spatial orbital 1 has energy of 0.612618086735 Hartree.\n",
      "\n",
      "At bond length of 0.84 Bohr, molecular hydrogen has:\n",
      "Hartree-Fock energy of -1.10438068719 Hartree.\n",
      "MP2 energy of -1.12003650975 Hartree.\n",
      "FCI energy of -1.12970255587 Hartree.\n",
      "Nuclear repulsion energy between protons is 0.629972870143 Hartree.\n",
      "Spatial orbital 0 has energy of -0.53929430152 Hartree.\n",
      "Spatial orbital 1 has energy of 0.577136563038 Hartree.\n"
     ]
    },
    {
     "name": "stderr",
     "output_type": "stream",
     "text": [
      "Warn: Ipython shell catchs sys.args\n",
      "Warn: Ipython shell catchs sys.args\n",
      "Traceback (most recent call last):\n",
      "  File \"/home/jmcclean/local/anaconda2/lib/python2.7/multiprocessing/queues.py\", line 268, in _feed\n",
      "    send(obj)\n",
      "IOError: [Errno 32] Broken pipe\n",
      "Warn: Ipython shell catchs sys.args\n",
      "Warn: Ipython shell catchs sys.args\n"
     ]
    },
    {
     "name": "stdout",
     "output_type": "stream",
     "text": [
      "\n",
      "At bond length of 0.88 Bohr, molecular hydrogen has:\n",
      "Hartree-Fock energy of -1.09638272693 Hartree.\n",
      "MP2 energy of -1.11315615405 Hartree.\n",
      "FCI energy of -1.12388082384 Hartree.\n",
      "Nuclear repulsion energy between protons is 0.601337739682 Hartree.\n",
      "Spatial orbital 0 has energy of -0.524726058295 Hartree.\n",
      "Spatial orbital 1 has energy of 0.544133755843 Hartree.\n",
      "\n",
      "At bond length of 0.92 Bohr, molecular hydrogen has:\n",
      "Hartree-Fock energy of -1.08717808047 Hartree.\n",
      "MP2 energy of -1.10513800634 Hartree.\n",
      "FCI energy of -1.11701426439 Hartree.\n",
      "Nuclear repulsion energy between protons is 0.575192620565 Hartree.\n",
      "Spatial orbital 0 has energy of -0.510754239983 Hartree.\n",
      "Spatial orbital 1 has energy of 0.51334305815 Hartree.\n",
      "\n",
      "At bond length of 0.96 Bohr, molecular hydrogen has:\n",
      "Hartree-Fock energy of -1.07701965455 Hartree.\n",
      "MP2 energy of -1.09623921415 Hartree.\n",
      "FCI energy of -1.10936664779 Hartree.\n",
      "Nuclear repulsion energy between protons is 0.551226261375 Hartree.\n",
      "Spatial orbital 0 has energy of -0.497339356367 Hartree.\n",
      "Spatial orbital 1 has energy of 0.484531880677 Hartree.\n",
      "\n",
      "At bond length of 1.0 Bohr, molecular hydrogen has:\n",
      "Hartree-Fock energy of -1.06610864932 Hartree.\n",
      "MP2 energy of -1.08666536468 Hartree.\n",
      "FCI energy of -1.10115033023 Hartree.\n",
      "Nuclear repulsion energy between protons is 0.52917721092 Hartree.\n",
      "Spatial orbital 0 has energy of -0.484441680354 Hartree.\n",
      "Spatial orbital 1 has energy of 0.457501939048 Hartree.\n"
     ]
    },
    {
     "name": "stderr",
     "output_type": "stream",
     "text": [
      "Warn: Ipython shell catchs sys.args\n",
      "Warn: Ipython shell catchs sys.args\n"
     ]
    },
    {
     "name": "stdout",
     "output_type": "stream",
     "text": [
      "\n",
      "At bond length of 1.04 Bohr, molecular hydrogen has:\n",
      "Hartree-Fock energy of -1.0546078504 Hartree.\n",
      "MP2 energy of -1.07658366251 Hartree.\n",
      "FCI energy of -1.09253915404 Hartree.\n",
      "Nuclear repulsion energy between protons is 0.508824241269 Hartree.\n",
      "Spatial orbital 0 has energy of -0.472023204762 Hartree.\n",
      "Spatial orbital 1 has energy of 0.432086887499 Hartree.\n",
      "\n",
      "At bond length of 1.08 Bohr, molecular hydrogen has:\n",
      "Hartree-Fock energy of -1.04265166265 Hartree.\n",
      "MP2 energy of -1.06613286426 Hartree.\n",
      "FCI energy of -1.08367806992 Hartree.\n",
      "Nuclear repulsion energy between protons is 0.489978899 Hartree.\n",
      "Spatial orbital 0 has energy of -0.460049026613 Hartree.\n",
      "Spatial orbital 1 has energy of 0.408148307697 Hartree.\n"
     ]
    },
    {
     "name": "stderr",
     "output_type": "stream",
     "text": [
      "Warn: Ipython shell catchs sys.args\n",
      "Warn: Ipython shell catchs sys.args\n"
     ]
    },
    {
     "name": "stdout",
     "output_type": "stream",
     "text": [
      "\n",
      "At bond length of 1.12 Bohr, molecular hydrogen has:\n",
      "Hartree-Fock energy of -1.03035337553 Hartree.\n",
      "MP2 energy of -1.05543046657 Hartree.\n",
      "FCI energy of -1.07468999612 Hartree.\n",
      "Nuclear repulsion energy between protons is 0.472479652607 Hartree.\n",
      "Spatial orbital 0 has energy of -0.448488127564 Hartree.\n",
      "Spatial orbital 1 has energy of 0.385570966509 Hartree.\n",
      "\n",
      "At bond length of 1.16 Bohr, molecular hydrogen has:\n",
      "Hartree-Fock energy of -1.01781021102 Hartree.\n",
      "MP2 energy of -1.04457770003 Hartree.\n",
      "FCI energy of -1.065680483 Hartree.\n",
      "Nuclear repulsion energy between protons is 0.456187250793 Hartree.\n",
      "Spatial orbital 0 has energy of -0.437313627274 Hartree.\n",
      "Spatial orbital 1 has energy of 0.36425805475 Hartree.\n"
     ]
    },
    {
     "name": "stderr",
     "output_type": "stream",
     "text": [
      "Warn: Ipython shell catchs sys.args\n",
      "Warn: Ipython shell catchs sys.args\n"
     ]
    },
    {
     "name": "stdout",
     "output_type": "stream",
     "text": [
      "\n",
      "At bond length of 1.2 Bohr, molecular hydrogen has:\n",
      "Hartree-Fock energy of -1.00510670657 Hartree.\n",
      "MP2 energy of -1.03366287978 Hartree.\n",
      "FCI energy of -1.05674074631 Hartree.\n",
      "Nuclear repulsion energy between protons is 0.4409810091 Hartree.\n",
      "Spatial orbital 0 has energy of -0.426502642128 Hartree.\n",
      "Spatial orbital 1 has energy of 0.344126881369 Hartree.\n",
      "\n",
      "At bond length of 1.24 Bohr, molecular hydrogen has:\n",
      "Hartree-Fock energy of -0.992316931306 Hartree.\n",
      "MP2 energy of -1.0227636075 Hartree.\n",
      "FCI energy of -1.04794957377 Hartree.\n",
      "Nuclear repulsion energy between protons is 0.426755815258 Hartree.\n",
      "Spatial orbital 0 has energy of -0.416035893791 Hartree.\n",
      "Spatial orbital 1 has energy of 0.325105276413 Hartree.\n"
     ]
    },
    {
     "name": "stderr",
     "output_type": "stream",
     "text": [
      "Warn: Ipython shell catchs sys.args\n",
      "Traceback (most recent call last):\n",
      "  File \"/home/jmcclean/local/anaconda2/lib/python2.7/multiprocessing/queues.py\", line 268, in _feed\n",
      "    send(obj)\n",
      "IOError: [Errno 32] Broken pipe\n",
      "Warn: Ipython shell catchs sys.args\n"
     ]
    },
    {
     "name": "stdout",
     "output_type": "stream",
     "text": [
      "\n",
      "At bond length of 1.28 Bohr, molecular hydrogen has:\n",
      "Hartree-Fock energy of -0.979505943947 Hartree.\n",
      "MP2 energy of -1.01194822789 Hartree.\n",
      "FCI energy of -1.03937451663 Hartree.\n",
      "Nuclear repulsion energy between protons is 0.413419696031 Hartree.\n",
      "Spatial orbital 0 has energy of -0.405897195099 Hartree.\n",
      "Spatial orbital 1 has energy of 0.307128780836 Hartree.\n",
      "\n",
      "At bond length of 1.32 Bohr, molecular hydrogen has:\n",
      "Hartree-Fock energy of -0.966730797712 Hartree.\n",
      "MP2 energy of -1.0012768401 Hartree.\n",
      "FCI energy of -1.03107267448 Hartree.\n",
      "Nuclear repulsion energy between protons is 0.400891826455 Hartree.\n",
      "Spatial orbital 0 has energy of -0.396072909566 Hartree.\n",
      "Spatial orbital 1 has energy of 0.290138581572 Hartree.\n"
     ]
    },
    {
     "name": "stderr",
     "output_type": "stream",
     "text": [
      "Warn: Ipython shell catchs sys.args\n",
      "Warn: Ipython shell catchs sys.args\n",
      "Traceback (most recent call last):\n",
      "  File \"/home/jmcclean/local/anaconda2/lib/python2.7/multiprocessing/queues.py\", line 268, in _feed\n",
      "    send(obj)\n",
      "IOError: [Errno 32] Broken pipe\n",
      "Warn: Ipython shell catchs sys.args\n",
      "Warn: Ipython shell catchs sys.args\n"
     ]
    },
    {
     "name": "stdout",
     "output_type": "stream",
     "text": [
      "\n",
      "At bond length of 1.36 Bohr, molecular hydrogen has:\n",
      "Hartree-Fock energy of -0.954041300142 Hartree.\n",
      "MP2 energy of -0.9908020676 Hartree.\n",
      "FCI energy of -1.02309128487 Hartree.\n",
      "Nuclear repulsion energy between protons is 0.389100890382 Hartree.\n",
      "Spatial orbital 0 has energy of -0.386551446683 Hartree.\n",
      "Spatial orbital 1 has energy of 0.274080082435 Hartree.\n",
      "\n",
      "At bond length of 1.4 Bohr, molecular hydrogen has:\n",
      "Hartree-Fock energy of -0.941480654708 Hartree.\n",
      "MP2 energy of -0.980569709566 Hartree.\n",
      "FCI energy of -1.01546824929 Hartree.\n",
      "Nuclear repulsion energy between protons is 0.377983722086 Hartree.\n",
      "Spatial orbital 0 has energy of -0.377322825369 Hartree.\n",
      "Spatial orbital 1 has energy of 0.258901974587 Hartree.\n",
      "\n",
      "At bond length of 1.44 Bohr, molecular hydrogen has:\n",
      "Hartree-Fock energy of -0.929086051061 Hartree.\n",
      "MP2 energy of -0.970619338373 Hartree.\n",
      "FCI energy of -1.00823266859 Hartree.\n",
      "Nuclear repulsion energy between protons is 0.36748417425 Hartree.\n",
      "Spatial orbital 0 has energy of -0.368378315763 Hartree.\n",
      "Spatial orbital 1 has energy of 0.244555671396 Hartree.\n",
      "\n",
      "At bond length of 1.48 Bohr, molecular hydrogen has:\n",
      "Hartree-Fock energy of -0.916889231091 Hartree.\n",
      "MP2 energy of -0.960984868826 Hartree.\n",
      "FCI energy of -1.00140542141 Hartree.\n",
      "Nuclear repulsion energy between protons is 0.357552169541 Hartree.\n",
      "Spatial orbital 0 has energy of -0.359710155349 Hartree.\n",
      "Spatial orbital 1 has energy of 0.230994989818 Hartree.\n",
      "\n",
      "At bond length of 1.52 Bohr, molecular hydrogen has:\n",
      "Hartree-Fock energy of -0.904917035024 Hartree.\n",
      "MP2 energy of -0.951695102892 Hartree.\n",
      "FCI energy of -0.994999795366 Hartree.\n",
      "Nuclear repulsion energy between protons is 0.348142901921 Hartree.\n",
      "Spatial orbital 0 has energy of -0.351311328184 Hartree.\n",
      "Spatial orbital 1 has energy of 0.218175984577 Hartree.\n"
     ]
    },
    {
     "name": "stderr",
     "output_type": "stream",
     "text": [
      "Warn: Ipython shell catchs sys.args\n",
      "Traceback (most recent call last):\n",
      "  File \"/home/jmcclean/local/anaconda2/lib/python2.7/multiprocessing/queues.py\", line 268, in _feed\n",
      "    send(obj)\n",
      "IOError: [Errno 32] Broken pipe\n",
      "Warn: Ipython shell catchs sys.args\n",
      "Warn: Ipython shell catchs sys.args\n"
     ]
    },
    {
     "name": "stdout",
     "output_type": "stream",
     "text": [
      "\n",
      "At bond length of 1.56 Bohr, molecular hydrogen has:\n",
      "Hartree-Fock energy of -0.89319192114 Hartree.\n",
      "MP2 energy of -0.942774243753 Hartree.\n",
      "FCI energy of -0.989022168164 Hartree.\n",
      "Nuclear repulsion energy between protons is 0.339216160846 Hartree.\n",
      "Spatial orbital 0 has energy of -0.343175393643 Hartree.\n",
      "Spatial orbital 1 has energy of 0.206056866361 Hartree.\n",
      "\n",
      "At bond length of 1.6 Bohr, molecular hydrogen has:\n",
      "Hartree-Fock energy of -0.881732449946 Hartree.\n",
      "MP2 energy of -0.934242370768 Hartree.\n",
      "FCI energy of -0.983472729033 Hartree.\n",
      "Nuclear repulsion energy between protons is 0.330735756825 Hartree.\n",
      "Spatial orbital 0 has energy of -0.335296351955 Hartree.\n",
      "Spatial orbital 1 has energy of 0.194597957362 Hartree.\n"
     ]
    },
    {
     "name": "stderr",
     "output_type": "stream",
     "text": [
      "Warn: Ipython shell catchs sys.args\n",
      "Warn: Ipython shell catchs sys.args\n"
     ]
    },
    {
     "name": "stdout",
     "output_type": "stream",
     "text": [
      "\n",
      "At bond length of 1.64 Bohr, molecular hydrogen has:\n",
      "Hartree-Fock energy of -0.87055372529 Hartree.\n",
      "MP2 energy of -0.926115868927 Hartree.\n",
      "FCI energy of -0.978346228404 Hartree.\n",
      "Nuclear repulsion energy between protons is 0.322669031049 Hartree.\n",
      "Spatial orbital 0 has energy of -0.327668536154 Hartree.\n",
      "Spatial orbital 1 has energy of 0.183761655274 Hartree.\n",
      "\n",
      "At bond length of 1.68 Bohr, molecular hydrogen has:\n",
      "Hartree-Fock energy of -0.859667788361 Hartree.\n",
      "MP2 energy of -0.918407809981 Hartree.\n",
      "FCI energy of -0.973632742208 Hartree.\n",
      "Nuclear repulsion energy between protons is 0.314986435071 Hartree.\n",
      "Spatial orbital 0 has energy of -0.320286522944 Hartree.\n",
      "Spatial orbital 1 has energy of 0.173512390038 Hartree.\n"
     ]
    },
    {
     "name": "stderr",
     "output_type": "stream",
     "text": [
      "Warn: Ipython shell catchs sys.args\n",
      "Warn: Ipython shell catchs sys.args\n",
      "Traceback (most recent call last):\n",
      "  File \"/home/jmcclean/local/anaconda2/lib/python2.7/multiprocessing/queues.py\", line 268, in _feed\n",
      "    send(obj)\n",
      "IOError: [Errno 32] Broken pipe\n",
      "Warn: Ipython shell catchs sys.args\n",
      "Warn: Ipython shell catchs sys.args\n"
     ]
    },
    {
     "name": "stdout",
     "output_type": "stream",
     "text": [
      "\n",
      "At bond length of 1.72 Bohr, molecular hydrogen has:\n",
      "Hartree-Fock energy of -0.849083964297 Hartree.\n",
      "MP2 energy of -0.911128286243 Hartree.\n",
      "FCI energy of -0.969318436465 Hartree.\n",
      "Nuclear repulsion energy between protons is 0.30766116914 Hartree.\n",
      "Spatial orbital 0 has energy of -0.313145057593 Hartree.\n",
      "Spatial orbital 1 has energy of 0.163816566726 Hartree.\n",
      "\n",
      "At bond length of 1.76 Bohr, molecular hydrogen has:\n",
      "Hartree-Fock energy of -0.838809164248 Hartree.\n",
      "MP2 energy of -0.904284701054 Hartree.\n",
      "FCI energy of -0.96538631745 Hartree.\n",
      "Nuclear repulsion energy between protons is 0.300668869841 Hartree.\n",
      "Spatial orbital 0 has energy of -0.306238990121 Hartree.\n",
      "Spatial orbital 1 has energy of 0.15464249368 Hartree.\n",
      "\n",
      "At bond length of 1.8 Bohr, molecular hydrogen has:\n",
      "Hartree-Fock energy of -0.828848147927 Hartree.\n",
      "MP2 energy of -0.897882021918 Hartree.\n",
      "FCI energy of -0.961816952793 Hartree.\n",
      "Nuclear repulsion energy between protons is 0.2939873394 Hartree.\n",
      "Spatial orbital 0 has energy of -0.299563221524 Hartree.\n",
      "Spatial orbital 1 has energy of 0.145960298298 Hartree.\n",
      "\n",
      "At bond length of 1.84 Bohr, molecular hydrogen has:\n",
      "Hartree-Fock energy of -0.819203752847 Hartree.\n",
      "MP2 energy of -0.891923003227 Hartree.\n",
      "FCI energy of -0.958589149716 Hartree.\n",
      "Nuclear repulsion energy between protons is 0.287596310283 Hartree.\n",
      "Spatial orbital 0 has energy of -0.293112659668 Hartree.\n",
      "Spatial orbital 1 has energy of 0.137741834315 Hartree.\n"
     ]
    },
    {
     "name": "stderr",
     "output_type": "stream",
     "text": [
      "Warn: Ipython shell catchs sys.args\n",
      "Warn: Ipython shell catchs sys.args\n"
     ]
    },
    {
     "name": "stdout",
     "output_type": "stream",
     "text": [
      "\n",
      "At bond length of 1.88 Bohr, molecular hydrogen has:\n",
      "Hartree-Fock energy of -0.809877096741 Hartree.\n",
      "MP2 energy of -0.886408385508 Hartree.\n",
      "FCI energy of -0.955680578192 Hartree.\n",
      "Nuclear repulsion energy between protons is 0.281477239851 Hartree.\n",
      "Spatial orbital 0 has energy of -0.286882184888 Hartree.\n",
      "Spatial orbital 1 has energy of 0.129960584813 Hartree.\n",
      "\n",
      "At bond length of 1.92 Bohr, molecular hydrogen has:\n",
      "Hartree-Fock energy of -0.800867759257 Hartree.\n",
      "MP2 energy of -0.881337077426 Hartree.\n",
      "FCI energy of -0.953068329216 Hartree.\n",
      "Nuclear repulsion energy between protons is 0.275613130688 Hartree.\n",
      "Spatial orbital 0 has energy of -0.28086662537 Hartree.\n",
      "Spatial orbital 1 has energy of 0.122591564795 Hartree.\n"
     ]
    },
    {
     "name": "stderr",
     "output_type": "stream",
     "text": [
      "Warn: Ipython shell catchs sys.args\n",
      "Traceback (most recent call last):\n",
      "  File \"/home/jmcclean/local/anaconda2/lib/python2.7/multiprocessing/queues.py\", line 268, in _feed\n",
      "    send(obj)\n",
      "IOError: [Errno 32] Broken pipe\n",
      "Warn: Ipython shell catchs sys.args\n"
     ]
    },
    {
     "name": "stdout",
     "output_type": "stream",
     "text": [
      "\n",
      "At bond length of 1.96 Bohr, molecular hydrogen has:\n",
      "Hartree-Fock energy of -0.792173948174 Hartree.\n",
      "MP2 energy of -0.876706325668 Hartree.\n",
      "FCI energy of -0.950729401382 Hartree.\n",
      "Nuclear repulsion energy between protons is 0.269988372918 Hartree.\n",
      "Spatial orbital 0 has energy of -0.275060742204 Hartree.\n",
      "Spatial orbital 1 has energy of 0.115611226476 Hartree.\n",
      "\n",
      "At bond length of 2.0 Bohr, molecular hydrogen has:\n",
      "Hartree-Fock energy of -0.783792654277 Hartree.\n",
      "MP2 energy of -0.872511876467 Hartree.\n",
      "FCI energy of -0.948641112176 Hartree.\n",
      "Nuclear repulsion energy between protons is 0.26458860546 Hartree.\n",
      "Spatial orbital 0 has energy of -0.269459223656 Hartree.\n",
      "Spatial orbital 1 has energy of 0.108997369549 Hartree.\n"
     ]
    },
    {
     "name": "stderr",
     "output_type": "stream",
     "text": [
      "Warn: Ipython shell catchs sys.args\n",
      "Traceback (most recent call last):\n",
      "  File \"/home/jmcclean/local/anaconda2/lib/python2.7/multiprocessing/queues.py\", line 268, in _feed\n",
      "    send(obj)\n",
      "IOError: [Errno 32] Broken pipe\n",
      "Warn: Ipython shell catchs sys.args\n"
     ]
    },
    {
     "name": "stdout",
     "output_type": "stream",
     "text": [
      "\n",
      "At bond length of 2.04 Bohr, molecular hydrogen has:\n",
      "Hartree-Fock energy of -0.775719797819 Hartree.\n",
      "MP2 energy of -0.868748131139 Hartree.\n",
      "FCI energy of -0.946781433652 Hartree.\n",
      "Nuclear repulsion energy between protons is 0.259400593588 Hartree.\n",
      "Spatial orbital 0 has energy of -0.264056687858 Hartree.\n",
      "Spatial orbital 1 has energy of 0.10272905786 Hartree.\n",
      "\n",
      "At bond length of 2.08 Bohr, molecular hydrogen has:\n",
      "Hartree-Fock energy of -0.767950368365 Hartree.\n",
      "MP2 energy of -0.865408296745 Hartree.\n",
      "FCI energy of -0.94512925507 Hartree.\n",
      "Nuclear repulsion energy between protons is 0.254412120635 Hartree.\n",
      "Spatial orbital 0 has energy of -0.258847692802 Hartree.\n",
      "Spatial orbital 1 has energy of 0.0967865431324 Hartree.\n"
     ]
    },
    {
     "name": "stderr",
     "output_type": "stream",
     "text": [
      "Warn: Ipython shell catchs sys.args\n",
      "Warn: Ipython shell catchs sys.args\n"
     ]
    },
    {
     "name": "stdout",
     "output_type": "stream",
     "text": [
      "\n",
      "At bond length of 2.12 Bohr, molecular hydrogen has:\n",
      "Hartree-Fock energy of -0.760478558804 Hartree.\n",
      "MP2 energy of -0.862484531927 Hartree.\n",
      "FCI energy of -0.943664577451 Hartree.\n",
      "Nuclear repulsion energy between protons is 0.249611891943 Hartree.\n",
      "Spatial orbital 0 has energy of -0.253826752232 Hartree.\n",
      "Spatial orbital 1 has energy of 0.0911511957819 Hartree.\n",
      "\n",
      "At bond length of 2.16 Bohr, molecular hydrogen has:\n",
      "Hartree-Fock energy of -0.753297893498 Hartree.\n",
      "MP2 energy of -0.859968087187 Hartree.\n",
      "FCI energy of -0.942368646781 Hartree.\n",
      "Nuclear repulsion energy between protons is 0.2449894495 Hartree.\n",
      "Spatial orbital 0 has energy of -0.248988355891 Hartree.\n",
      "Spatial orbital 1 has energy of 0.0858054423908 Hartree.\n"
     ]
    },
    {
     "name": "stderr",
     "output_type": "stream",
     "text": [
      "Warn: Ipython shell catchs sys.args\n",
      "Warn: Ipython shell catchs sys.args\n"
     ]
    },
    {
     "name": "stdout",
     "output_type": "stream",
     "text": [
      "\n",
      "At bond length of 2.2 Bohr, molecular hydrogen has:\n",
      "Hartree-Fock energy of -0.746401349991 Hartree.\n",
      "MP2 energy of -0.857849438386 Hartree.\n",
      "FCI energy of -0.941224033693 Hartree.\n",
      "Nuclear repulsion energy between protons is 0.240535095873 Hartree.\n",
      "Spatial orbital 0 has energy of -0.244326992533 Hartree.\n",
      "Spatial orbital 1 has energy of 0.0807327090945 Hartree.\n"
     ]
    },
    {
     "data": {
      "image/png": "[encoded data removed]",
      "text/plain": [
       "<matplotlib.figure.Figure at 0x7f26b1ef1a90>"
      ]
     },
     "metadata": {},
     "output_type": "display_data"
    }
   ],
   "source": [
    "from fermilib.utils import MolecularData\n",
    "from fermilibpluginpyscf import run_pyscf\n",
    "\n",
    "# Set molecule parameters.\n",
    "basis = 'sto-3g'\n",
    "multiplicity = 1\n",
    "n_points = 40\n",
    "bond_length_interval = 3.0 / n_points\n",
    "\n",
    "# Set calculation parameters.\n",
    "run_scf = 1\n",
    "run_mp2 = 1\n",
    "run_cisd = 0\n",
    "run_ccsd = 0\n",
    "run_fci = 1\n",
    "delete_input = True\n",
    "delete_output = True\n",
    "\n",
    "# Generate molecule at different bond lengths.\n",
    "hf_energies = []\n",
    "fci_energies = []\n",
    "bond_lengths = []\n",
    "for point in range(1, n_points + 1):\n",
    "    bond_length = bond_length_interval * float(point) + 0.2\n",
    "    bond_lengths += [bond_length]\n",
    "    geometry = [('H', (0., 0., 0.)), ('H', (0., 0., bond_length))]\n",
    "    molecule = MolecularData(\n",
    "        geometry, basis, multiplicity,\n",
    "        description=str(round(bond_length, 2)))\n",
    "    \n",
    "    # Run Psi4.\n",
    "    molecule = run_pyscf(molecule,\n",
    "                         run_scf=run_scf,\n",
    "                         run_mp2=run_mp2,\n",
    "                         run_cisd=run_cisd,\n",
    "                         run_ccsd=run_ccsd,\n",
    "                         run_fci=run_fci)\n",
    "\n",
    "    # Print out some results of calculation.\n",
    "    print('\\nAt bond length of {} Bohr, molecular hydrogen has:'.format(\n",
    "        bond_length))\n",
    "    print('Hartree-Fock energy of {} Hartree.'.format(molecule.hf_energy))\n",
    "    print('MP2 energy of {} Hartree.'.format(molecule.mp2_energy))\n",
    "    print('FCI energy of {} Hartree.'.format(molecule.fci_energy))\n",
    "    print('Nuclear repulsion energy between protons is {} Hartree.'.format(\n",
    "        molecule.nuclear_repulsion))\n",
    "    for orbital in range(molecule.n_orbitals):\n",
    "        print('Spatial orbital {} has energy of {} Hartree.'.format(\n",
    "            orbital, molecule.orbital_energies[orbital]))\n",
    "    hf_energies += [molecule.hf_energy]\n",
    "    fci_energies += [molecule.fci_energy]\n",
    "\n",
    "# Plot.\n",
    "import matplotlib.pyplot as plt\n",
    "%matplotlib inline\n",
    "\n",
    "plt.figure(0)\n",
    "plt.plot(bond_lengths, fci_energies, 'x-')\n",
    "plt.plot(bond_lengths, hf_energies, 'o-')\n",
    "plt.ylabel('Energy in Hartree')\n",
    "plt.xlabel('Bond length in Bohr')\n",
    "plt.show()"
   ]
  },
  {
   "cell_type": "code",
   "execution_count": null,
   "metadata": {
    "collapsed": true
   },
   "outputs": [],
   "source": []
  }
 ],
 "metadata": {
  "anaconda-cloud": {},
  "kernelspec": {
   "display_name": "Python [default]",
   "language": "python",
   "name": "python2"
  },
  "language_info": {
   "codemirror_mode": {
    "name": "ipython",
    "version": 2
   },
   "file_extension": ".py",
   "mimetype": "text/x-python",
   "name": "python",
   "nbconvert_exporter": "python",
   "pygments_lexer": "ipython2",
   "version": "2.7.12"
  }
 },
 "nbformat": 4,
 "nbformat_minor": 1
}
