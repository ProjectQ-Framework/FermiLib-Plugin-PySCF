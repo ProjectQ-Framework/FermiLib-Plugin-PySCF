{
 "cells": [
  {
   "cell_type": "markdown",
   "metadata": {},
   "source": [
    "## Running pyscf to populate the MolecularData class\n",
    "\n",
    "The module run_pyscf.py provides a user-friendly way of running psi4 calculations in FermiLib. The basic idea is that once one generates a MolecularData instance, one can then call pyscf with a specification of certain options (for instance, how much memory to use and what calculations to do) in order to compute things about the molecule, update the MolecularData object, and save results of the calculation. The most common calculations users will want in FermiLib would probably be self-consistent field (aka Hartree-Fock calculations). Our code uses these \"SCF\" calculations compute orbitals, integrals, Hartree-Fock energy, and more. Other common calculations are CISD and FCI calculations which also compute the 1-RDM and 2-RDM associated with their answers, CCSD calculations which also compute the CCSD amplitudes (useful for UCC) and MP2 calculations which can also be used to UCCSD initial guesses. \n",
    "Note that the \"delete_input\" and \"delete_output\" options indicate whether to save automatically generated psi4 input files or not. To use this plugin, you will need to personally download pyscf.\n",
    "\n",
    "Warnings: electronic structure calculations are finicky. They sometimes fail for surprising reasons. See the pyscf documentation for more information or consult and electronic structure theory expert."
   ]
  },
  {
   "cell_type": "code",
   "execution_count": 1,
   "metadata": {},
   "outputs": [
    {
     "name": "stderr",
     "output_type": "stream",
     "text": [
      "Warn: Ipython shell catchs sys.args\n"
     ]
    },
    {
     "name": "stdout",
     "output_type": "stream",
     "text": [
      "\n",
      "At bond length of 0.2 Bohr, molecular hydrogen has:\n",
      "Hartree-Fock energy of 0.164175012062 Hartree.\n",
      "MP2 energy of 0.159042666999 Hartree.\n",
      "FCI energy of 0.157482134798 Hartree.\n",
      "Nuclear repulsion energy between protons is 2.6458860546 Hartree.\n",
      "Spatial orbital 0 has energy of -0.858824527772 Hartree.\n",
      "Spatial orbital 1 has energy of 1.57236203198 Hartree.\n",
      "\n",
      "At bond length of 0.4 Bohr, molecular hydrogen has:\n",
      "Hartree-Fock energy of -0.904361394164 Hartree.\n",
      "MP2 energy of -0.911436819061 Hartree.\n",
      "FCI energy of -0.914149704627 Hartree.\n",
      "Nuclear repulsion energy between protons is 1.3229430273 Hartree.\n",
      "Spatial orbital 0 has energy of -0.745212534285 Hartree.\n",
      "Spatial orbital 1 has energy of 1.16741639842 Hartree.\n"
     ]
    },
    {
     "name": "stderr",
     "output_type": "stream",
     "text": [
      "Warn: Ipython shell catchs sys.args\n",
      "Warn: Ipython shell catchs sys.args\n"
     ]
    },
    {
     "name": "stdout",
     "output_type": "stream",
     "text": [
      "\n",
      "At bond length of 0.6 Bohr, molecular hydrogen has:\n",
      "Hartree-Fock energy of -1.10112824227 Hartree.\n",
      "MP2 energy of -1.1113321393 Hartree.\n",
      "FCI energy of -1.11628600687 Hartree.\n",
      "Nuclear repulsion energy between protons is 0.8819620182 Hartree.\n",
      "Spatial orbital 0 has energy of -0.640876265659 Hartree.\n",
      "Spatial orbital 1 has energy of 0.83808498176 Hartree.\n",
      "\n",
      "At bond length of 0.8 Bohr, molecular hydrogen has:\n",
      "Hartree-Fock energy of -1.11085039748 Hartree.\n",
      "MP2 energy of -1.12545353399 Hartree.\n",
      "FCI energy of -1.13414766668 Hartree.\n",
      "Nuclear repulsion energy between protons is 0.66147151365 Hartree.\n",
      "Spatial orbital 0 has energy of -0.554495881131 Hartree.\n",
      "Spatial orbital 1 has energy of 0.612618086735 Hartree.\n"
     ]
    },
    {
     "name": "stderr",
     "output_type": "stream",
     "text": [
      "Warn: Ipython shell catchs sys.args\n",
      "Warn: Ipython shell catchs sys.args\n"
     ]
    },
    {
     "name": "stdout",
     "output_type": "stream",
     "text": [
      "\n",
      "At bond length of 1.0 Bohr, molecular hydrogen has:\n",
      "Hartree-Fock energy of -1.06610864932 Hartree.\n",
      "MP2 energy of -1.08666536468 Hartree.\n",
      "FCI energy of -1.10115033023 Hartree.\n",
      "Nuclear repulsion energy between protons is 0.52917721092 Hartree.\n",
      "Spatial orbital 0 has energy of -0.484441680354 Hartree.\n",
      "Spatial orbital 1 has energy of 0.457501939048 Hartree.\n",
      "\n",
      "At bond length of 1.2 Bohr, molecular hydrogen has:\n",
      "Hartree-Fock energy of -1.00510670657 Hartree.\n",
      "MP2 energy of -1.03366287978 Hartree.\n",
      "FCI energy of -1.05674074631 Hartree.\n",
      "Nuclear repulsion energy between protons is 0.4409810091 Hartree.\n",
      "Spatial orbital 0 has energy of -0.426502642128 Hartree.\n",
      "Spatial orbital 1 has energy of 0.344126881369 Hartree.\n"
     ]
    },
    {
     "name": "stderr",
     "output_type": "stream",
     "text": [
      "Warn: Ipython shell catchs sys.args\n",
      "Warn: Ipython shell catchs sys.args\n"
     ]
    },
    {
     "name": "stdout",
     "output_type": "stream",
     "text": [
      "\n",
      "At bond length of 1.4 Bohr, molecular hydrogen has:\n",
      "Hartree-Fock energy of -0.941480654708 Hartree.\n",
      "MP2 energy of -0.980569709566 Hartree.\n",
      "FCI energy of -1.01546824929 Hartree.\n",
      "Nuclear repulsion energy between protons is 0.377983722086 Hartree.\n",
      "Spatial orbital 0 has energy of -0.377322825369 Hartree.\n",
      "Spatial orbital 1 has energy of 0.258901974587 Hartree.\n",
      "\n",
      "At bond length of 1.6 Bohr, molecular hydrogen has:\n",
      "Hartree-Fock energy of -0.881732449946 Hartree.\n",
      "MP2 energy of -0.934242370768 Hartree.\n",
      "FCI energy of -0.983472729033 Hartree.\n",
      "Nuclear repulsion energy between protons is 0.330735756825 Hartree.\n",
      "Spatial orbital 0 has energy of -0.335296351955 Hartree.\n",
      "Spatial orbital 1 has energy of 0.194597957362 Hartree.\n"
     ]
    },
    {
     "name": "stderr",
     "output_type": "stream",
     "text": [
      "Warn: Ipython shell catchs sys.args\n",
      "Warn: Ipython shell catchs sys.args\n"
     ]
    },
    {
     "name": "stdout",
     "output_type": "stream",
     "text": [
      "\n",
      "At bond length of 1.8 Bohr, molecular hydrogen has:\n",
      "Hartree-Fock energy of -0.828848147927 Hartree.\n",
      "MP2 energy of -0.897882021918 Hartree.\n",
      "FCI energy of -0.961816952793 Hartree.\n",
      "Nuclear repulsion energy between protons is 0.2939873394 Hartree.\n",
      "Spatial orbital 0 has energy of -0.299563221524 Hartree.\n",
      "Spatial orbital 1 has energy of 0.145960298298 Hartree.\n",
      "\n",
      "At bond length of 2.0 Bohr, molecular hydrogen has:\n",
      "Hartree-Fock energy of -0.783792654277 Hartree.\n",
      "MP2 energy of -0.872511876467 Hartree.\n",
      "FCI energy of -0.948641112176 Hartree.\n",
      "Nuclear repulsion energy between protons is 0.26458860546 Hartree.\n",
      "Spatial orbital 0 has energy of -0.269459223656 Hartree.\n",
      "Spatial orbital 1 has energy of 0.108997369549 Hartree.\n"
     ]
    },
    {
     "name": "stderr",
     "output_type": "stream",
     "text": [
      "Warn: Ipython shell catchs sys.args\n"
     ]
    },
    {
     "data": {
      "image/png": "[encoded data removed]",
      "text/plain": [
       "<matplotlib.figure.Figure at 0x7fbdc8122e90>"
      ]
     },
     "metadata": {},
     "output_type": "display_data"
    }
   ],
   "source": [
    "from fermilib.utils import MolecularData\n",
    "from fermilibpluginpyscf import run_pyscf\n",
    "\n",
    "# Set molecule parameters.\n",
    "basis = 'sto-3g'\n",
    "multiplicity = 1\n",
    "bond_length_interval = 0.2\n",
    "n_points = 10\n",
    "\n",
    "# Set calculation parameters.\n",
    "run_scf = 1\n",
    "run_mp2 = 1\n",
    "run_cisd = 0\n",
    "run_ccsd = 0\n",
    "run_fci = 1\n",
    "delete_input = True\n",
    "delete_output = True\n",
    "\n",
    "# Generate molecule at different bond lengths.\n",
    "hf_energies = []\n",
    "fci_energies = []\n",
    "bond_lengths = []\n",
    "for point in range(1, n_points + 1):\n",
    "    bond_length = bond_length_interval * float(point)\n",
    "    bond_lengths += [bond_length]\n",
    "    geometry = [('H', (0., 0., 0.)), ('H', (0., 0., bond_length))]\n",
    "    molecule = MolecularData(\n",
    "        geometry, basis, multiplicity,\n",
    "        description=str(round(bond_length, 2)))\n",
    "    \n",
    "    # Run Psi4.\n",
    "    molecule = run_pyscf(molecule,\n",
    "                         run_scf=run_scf,\n",
    "                         run_mp2=run_mp2,\n",
    "                         run_cisd=run_cisd,\n",
    "                         run_ccsd=run_ccsd,\n",
    "                         run_fci=run_fci)\n",
    "\n",
    "    # Print out some results of calculation.\n",
    "    print('\\nAt bond length of {} Bohr, molecular hydrogen has:'.format(\n",
    "        bond_length))\n",
    "    print('Hartree-Fock energy of {} Hartree.'.format(molecule.hf_energy))\n",
    "    print('MP2 energy of {} Hartree.'.format(molecule.mp2_energy))\n",
    "    print('FCI energy of {} Hartree.'.format(molecule.fci_energy))\n",
    "    print('Nuclear repulsion energy between protons is {} Hartree.'.format(\n",
    "        molecule.nuclear_repulsion))\n",
    "    for orbital in range(molecule.n_orbitals):\n",
    "        print('Spatial orbital {} has energy of {} Hartree.'.format(\n",
    "            orbital, molecule.orbital_energies[orbital]))\n",
    "    hf_energies += [molecule.hf_energy]\n",
    "    fci_energies += [molecule.fci_energy]\n",
    "\n",
    "# Plot.\n",
    "import matplotlib.pyplot as plt\n",
    "%matplotlib inline\n",
    "\n",
    "plt.figure(0)\n",
    "plt.plot(bond_lengths, fci_energies, 'x-')\n",
    "plt.plot(bond_lengths, hf_energies, 'o-')\n",
    "plt.ylabel('Energy in Hartree')\n",
    "plt.xlabel('Bond length in Bohr')\n",
    "plt.show()"
   ]
  }
 ],
 "metadata": {
  "kernelspec": {
   "display_name": "Python 2",
   "language": "python",
   "name": "python2"
  },
  "language_info": {
   "codemirror_mode": {
    "name": "ipython",
    "version": 2
   },
   "file_extension": ".py",
   "mimetype": "text/x-python",
   "name": "python",
   "nbconvert_exporter": "python",
   "pygments_lexer": "ipython2",
   "version": "2.7.13"
  }
 },
 "nbformat": 4,
 "nbformat_minor": 1
}
