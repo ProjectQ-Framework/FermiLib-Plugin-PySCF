{
 "cells": [
  {
   "cell_type": "markdown",
   "metadata": {},
   "source": [
    "## Running pyscf to populate the MolecularData class\n",
    "\n",
    "The module run_pyscf.py provides a user-friendly way of running pyscf calculations in FermiLib. The basic idea is that once one generates a MolecularData instance, one can then call pyscf with a specification of certain options (for instance, how much memory to use and what calculations to do) in order to compute things about the molecule, update the MolecularData object, and save results of the calculation. The most common calculations users will want in FermiLib would probably be self-consistent field (aka Hartree-Fock calculations). Our code uses these \"SCF\" calculations compute orbitals, integrals, Hartree-Fock energy, and more. Other common calculations are CISD and FCI calculations which also compute the 1-RDM and 2-RDM associated with their answers, CCSD calculations which also compute the CCSD amplitudes (useful for UCC) and MP2 calculations which can also be used to UCCSD initial guesses. \n",
    "Note that the \"delete_input\" and \"delete_output\" options indicate whether to save automatically generated pyscf input files or not. To use this plugin, you will need to personally download pyscf.\n",
    "\n",
    "Warnings: electronic structure calculations are finicky. They sometimes fail for surprising reasons. See the pyscf documentation for more information or consult and electronic structure theory expert."
   ]
  },
  {
   "cell_type": "code",
   "execution_count": 2,
   "metadata": {},
   "outputs": [
    {
     "name": "stderr",
     "output_type": "stream",
     "text": [
      "Warn: Ipython shell catchs sys.args\n",
      "Warn: Ipython shell catchs sys.args\n"
     ]
    },
    {
     "name": "stdout",
     "output_type": "stream",
     "text": [
      "\n",
      "At bond length of 0.275 Bohr, molecular hydrogen has:\n",
      "Hartree-Fock energy of -0.465763692022 Hartree.\n",
      "MP2 energy of -0.471483763171 Hartree.\n",
      "FCI energy of -0.473370003213 Hartree.\n",
      "Nuclear repulsion energy between protons is 1.92428076698 Hartree.\n",
      "Spatial orbital 0 has energy of -0.817340000936 Hartree.\n",
      "Spatial orbital 1 has energy of 1.42093584882 Hartree.\n",
      "\n",
      "At bond length of 0.35 Bohr, molecular hydrogen has:\n",
      "Hartree-Fock energy of -0.780454902072 Hartree.\n",
      "MP2 energy of -0.786933019271 Hartree.\n",
      "FCI energy of -0.789269392404 Hartree.\n",
      "Nuclear repulsion energy between protons is 1.51193488834 Hartree.\n",
      "Spatial orbital 0 has energy of -0.773812219107 Hartree.\n",
      "Spatial orbital 1 has energy of 1.26613647236 Hartree.\n"
     ]
    },
    {
     "name": "stderr",
     "output_type": "stream",
     "text": [
      "Warn: Ipython shell catchs sys.args\n",
      "Warn: Ipython shell catchs sys.args\n"
     ]
    },
    {
     "name": "stdout",
     "output_type": "stream",
     "text": [
      "\n",
      "At bond length of 0.425 Bohr, molecular hydrogen has:\n",
      "Hartree-Fock energy of -0.9500662942 Hartree.\n",
      "MP2 energy of -0.957467753563 Hartree.\n",
      "FCI energy of -0.960393757432 Hartree.\n",
      "Nuclear repulsion energy between protons is 1.24512284922 Hartree.\n",
      "Spatial orbital 0 has energy of -0.731224742484 Hartree.\n",
      "Spatial orbital 1 has energy of 1.1202060156 Hartree.\n",
      "\n",
      "At bond length of 0.5 Bohr, molecular hydrogen has:\n",
      "Hartree-Fock energy of -1.04299627454 Hartree.\n",
      "MP2 energy of -1.05148606962 Hartree.\n",
      "FCI energy of -1.05515979447 Hartree.\n",
      "Nuclear repulsion energy between protons is 1.05835442184 Hartree.\n",
      "Spatial orbital 0 has energy of -0.690822328662 Hartree.\n",
      "Spatial orbital 1 has energy of 0.988673673002 Hartree.\n"
     ]
    },
    {
     "name": "stderr",
     "output_type": "stream",
     "text": [
      "Warn: Ipython shell catchs sys.args\n",
      "Warn: Ipython shell catchs sys.args\n"
     ]
    },
    {
     "name": "stdout",
     "output_type": "stream",
     "text": [
      "\n",
      "At bond length of 0.575 Bohr, molecular hydrogen has:\n",
      "Hartree-Fock energy of -1.09157049678 Hartree.\n",
      "MP2 energy of -1.10131707528 Hartree.\n",
      "FCI energy of -1.10591805325 Hartree.\n",
      "Nuclear repulsion energy between protons is 0.920308192904 Hartree.\n",
      "Spatial orbital 0 has energy of -0.652936838321 Hartree.\n",
      "Spatial orbital 1 has energy of 0.873105751443 Hartree.\n",
      "\n",
      "At bond length of 0.65 Bohr, molecular hydrogen has:\n",
      "Hartree-Fock energy of -1.11299654567 Hartree.\n",
      "MP2 energy of -1.12417429634 Hartree.\n",
      "FCI energy of -1.12990478432 Hartree.\n",
      "Nuclear repulsion energy between protons is 0.814118786031 Hartree.\n",
      "Spatial orbital 0 has energy of -0.617605463235 Hartree.\n",
      "Spatial orbital 1 has energy of 0.773022995439 Hartree.\n"
     ]
    },
    {
     "name": "stderr",
     "output_type": "stream",
     "text": [
      "Warn: Ipython shell catchs sys.args\n",
      "Warn: Ipython shell catchs sys.args\n"
     ]
    },
    {
     "name": "stdout",
     "output_type": "stream",
     "text": [
      "\n",
      "At bond length of 0.725 Bohr, molecular hydrogen has:\n",
      "Hartree-Fock energy of -1.11734326912 Hartree.\n",
      "MP2 energy of -1.13013540113 Hartree.\n",
      "FCI energy of -1.13722137707 Hartree.\n",
      "Nuclear repulsion energy between protons is 0.729899601269 Hartree.\n",
      "Spatial orbital 0 has energy of -0.584812015544 Hartree.\n",
      "Spatial orbital 1 has energy of 0.686877089471 Hartree.\n",
      "\n",
      "At bond length of 0.8 Bohr, molecular hydrogen has:\n",
      "Hartree-Fock energy of -1.11085039748 Hartree.\n",
      "MP2 energy of -1.12545353399 Hartree.\n",
      "FCI energy of -1.13414766668 Hartree.\n",
      "Nuclear repulsion energy between protons is 0.66147151365 Hartree.\n",
      "Spatial orbital 0 has energy of -0.554495881131 Hartree.\n",
      "Spatial orbital 1 has energy of 0.612618086735 Hartree.\n"
     ]
    },
    {
     "name": "stderr",
     "output_type": "stream",
     "text": [
      "Warn: Ipython shell catchs sys.args\n",
      "Warn: Ipython shell catchs sys.args\n"
     ]
    },
    {
     "name": "stdout",
     "output_type": "stream",
     "text": [
      "\n",
      "At bond length of 0.875 Bohr, molecular hydrogen has:\n",
      "Hartree-Fock energy of -1.0974543197 Hartree.\n",
      "MP2 energy of -1.11408436316 Hartree.\n",
      "FCI energy of -1.12467175357 Hartree.\n",
      "Nuclear repulsion energy between protons is 0.604773955337 Hartree.\n",
      "Spatial orbital 0 has energy of -0.526513679939 Hartree.\n",
      "Spatial orbital 1 has energy of 0.54813298342 Hartree.\n",
      "\n",
      "At bond length of 0.95 Bohr, molecular hydrogen has:\n",
      "Hartree-Fock energy of -1.07963692821 Hartree.\n",
      "MP2 energy of -1.09853448444 Hartree.\n",
      "FCI energy of -1.11133941774 Hartree.\n",
      "Nuclear repulsion energy between protons is 0.557028643074 Hartree.\n",
      "Spatial orbital 0 has energy of -0.500643053408 Hartree.\n",
      "Spatial orbital 1 has energy of 0.491560510155 Hartree.\n"
     ]
    },
    {
     "name": "stderr",
     "output_type": "stream",
     "text": [
      "Warn: Ipython shell catchs sys.args\n",
      "Warn: Ipython shell catchs sys.args\n"
     ]
    },
    {
     "name": "stdout",
     "output_type": "stream",
     "text": [
      "\n",
      "At bond length of 1.025 Bohr, molecular hydrogen has:\n",
      "Hartree-Fock energy of -1.05898071013 Hartree.\n",
      "MP2 energy of -1.08041447981 Hartree.\n",
      "FCI energy of -1.09580487601 Hartree.\n",
      "Nuclear repulsion energy between protons is 0.516270449678 Hartree.\n",
      "Spatial orbital 0 has energy of -0.476626271643 Hartree.\n",
      "Spatial orbital 1 has energy of 0.441437629683 Hartree.\n",
      "\n",
      "At bond length of 1.1 Bohr, molecular hydrogen has:\n",
      "Hartree-Fock energy of -1.03653887503 Hartree.\n",
      "MP2 energy of -1.0608064532 Hartree.\n",
      "FCI energy of -1.07919294497 Hartree.\n",
      "Nuclear repulsion energy between protons is 0.481070191745 Hartree.\n",
      "Spatial orbital 0 has energy of -0.454218694119 Hartree.\n",
      "Spatial orbital 1 has energy of 0.396695911145 Hartree.\n"
     ]
    },
    {
     "name": "stderr",
     "output_type": "stream",
     "text": [
      "Warn: Ipython shell catchs sys.args\n",
      "Warn: Ipython shell catchs sys.args\n"
     ]
    },
    {
     "name": "stdout",
     "output_type": "stream",
     "text": [
      "\n",
      "At bond length of 1.175 Bohr, molecular hydrogen has:\n",
      "Hartree-Fock energy of -1.01306099773 Hartree.\n",
      "MP2 energy of -1.04048753024 Hartree.\n",
      "FCI energy of -1.06231541668 Hartree.\n",
      "Nuclear repulsion energy between protons is 0.450363583762 Hartree.\n",
      "Spatial orbital 0 has energy of -0.433218017521 Hartree.\n",
      "Spatial orbital 1 has energy of 0.356574452957 Hartree.\n",
      "\n",
      "At bond length of 1.25 Bohr, molecular hydrogen has:\n",
      "Hartree-Fock energy of -0.989113814091 Hartree.\n",
      "MP2 energy of -1.02004941564 Hartree.\n",
      "FCI energy of -1.04578314455 Hartree.\n",
      "Nuclear repulsion energy between protons is 0.423341768736 Hartree.\n",
      "Spatial orbital 0 has energy of -0.413471036649 Hartree.\n",
      "Spatial orbital 1 has energy of 0.320515554372 Hartree.\n"
     ]
    },
    {
     "name": "stderr",
     "output_type": "stream",
     "text": [
      "Warn: Ipython shell catchs sys.args\n",
      "Warn: Ipython shell catchs sys.args\n"
     ]
    },
    {
     "name": "stdout",
     "output_type": "stream",
     "text": [
      "\n",
      "At bond length of 1.325 Bohr, molecular hydrogen has:\n",
      "Hartree-Fock energy of -0.965138979586 Hartree.\n",
      "MP2 energy of -0.999955738808 Hartree.\n",
      "FCI energy of -1.03005661113 Hartree.\n",
      "Nuclear repulsion energy between protons is 0.399379027109 Hartree.\n",
      "Spatial orbital 0 has energy of -0.394866384636 Hartree.\n",
      "Spatial orbital 1 has energy of 0.288081397752 Hartree.\n",
      "\n",
      "At bond length of 1.4 Bohr, molecular hydrogen has:\n",
      "Hartree-Fock energy of -0.941480654708 Hartree.\n",
      "MP2 energy of -0.980569709566 Hartree.\n",
      "FCI energy of -1.01546824929 Hartree.\n",
      "Nuclear repulsion energy between protons is 0.377983722086 Hartree.\n",
      "Spatial orbital 0 has energy of -0.377322825369 Hartree.\n",
      "Spatial orbital 1 has energy of 0.258901974587 Hartree.\n"
     ]
    },
    {
     "name": "stderr",
     "output_type": "stream",
     "text": [
      "Warn: Ipython shell catchs sys.args\n",
      "Warn: Ipython shell catchs sys.args\n"
     ]
    },
    {
     "name": "stdout",
     "output_type": "stream",
     "text": [
      "\n",
      "At bond length of 1.475 Bohr, molecular hydrogen has:\n",
      "Hartree-Fock energy of -0.918402055716 Hartree.\n",
      "MP2 energy of -0.962170870967 Hartree.\n",
      "FCI energy of -1.0022359731 Hartree.\n",
      "Nuclear repulsion energy between protons is 0.358764210793 Hartree.\n",
      "Spatial orbital 0 has energy of -0.360778808505 Hartree.\n",
      "Spatial orbital 1 has energy of 0.232648634323 Hartree.\n",
      "\n",
      "At bond length of 1.55 Bohr, molecular hydrogen has:\n",
      "Hartree-Fock energy of -0.896098958325 Hartree.\n",
      "MP2 energy of -0.944968709166 Hartree.\n",
      "FCI energy of -0.990476340937 Hartree.\n",
      "Nuclear repulsion energy between protons is 0.341404652206 Hartree.\n",
      "Spatial orbital 0 has energy of -0.345185065649 Hartree.\n",
      "Spatial orbital 1 has energy of 0.209023237141 Hartree.\n"
     ]
    },
    {
     "name": "stderr",
     "output_type": "stream",
     "text": [
      "Warn: Ipython shell catchs sys.args\n",
      "Warn: Ipython shell catchs sys.args\n"
     ]
    },
    {
     "name": "stdout",
     "output_type": "stream",
     "text": [
      "\n",
      "At bond length of 1.625 Bohr, molecular hydrogen has:\n",
      "Hartree-Fock energy of -0.874712020072 Hartree.\n",
      "MP2 energy of -0.929114904673 Hartree.\n",
      "FCI energy of -0.980219639774 Hartree.\n",
      "Nuclear repulsion energy between protons is 0.325647514412 Hartree.\n",
      "Spatial orbital 0 has energy of -0.330499875199 Hartree.\n",
      "Spatial orbital 1 has energy of 0.187754608434 Hartree.\n",
      "\n",
      "At bond length of 1.7 Bohr, molecular hydrogen has:\n",
      "Hartree-Fock energy of -0.854337626951 Hartree.\n",
      "MP2 energy of -0.914713958611 Hartree.\n",
      "FCI energy of -0.971426688458 Hartree.\n",
      "Nuclear repulsion energy between protons is 0.311280712306 Hartree.\n",
      "Spatial orbital 0 has energy of -0.316686045438 Hartree.\n",
      "Spatial orbital 1 has energy of 0.168597322543 Hartree.\n"
     ]
    },
    {
     "name": "stderr",
     "output_type": "stream",
     "text": [
      "Warn: Ipython shell catchs sys.args\n",
      "Warn: Ipython shell catchs sys.args\n"
     ]
    },
    {
     "name": "stdout",
     "output_type": "stream",
     "text": [
      "\n",
      "At bond length of 1.775 Bohr, molecular hydrogen has:\n",
      "Hartree-Fock energy of -0.835036819455 Hartree.\n",
      "MP2 energy of -0.901831833626 Hartree.\n",
      "FCI energy of -0.964006402031 Hartree.\n",
      "Nuclear repulsion energy between protons is 0.298128006152 Hartree.\n",
      "Spatial orbital 0 has energy of -0.303708862 Hartree.\n",
      "Spatial orbital 1 has energy of 0.151330576934 Hartree.\n",
      "\n",
      "At bond length of 1.85 Bohr, molecular hydrogen has:\n",
      "Hartree-Fock energy of -0.816842292251 Hartree.\n",
      "MP2 energy of -0.890502698872 Hartree.\n",
      "FCI energy of -0.957832967869 Hartree.\n",
      "Nuclear repulsion energy between protons is 0.286041735632 Hartree.\n",
      "Spatial orbital 0 has energy of -0.291534608794 Hartree.\n",
      "Spatial orbital 1 has energy of 0.135756534497 Hartree.\n"
     ]
    },
    {
     "name": "stderr",
     "output_type": "stream",
     "text": [
      "Warn: Ipython shell catchs sys.args\n",
      "Warn: Ipython shell catchs sys.args\n"
     ]
    },
    {
     "name": "stdout",
     "output_type": "stream",
     "text": [
      "\n",
      "At bond length of 1.925 Bohr, molecular hydrogen has:\n",
      "Hartree-Fock energy of -0.799763828147 Hartree.\n",
      "MP2 energy of -0.880734213989 Hartree.\n",
      "FCI energy of -0.952761485739 Hartree.\n",
      "Nuclear repulsion energy between protons is 0.274897252426 Hartree.\n",
      "Spatial orbital 0 has energy of -0.280129531526 Hartree.\n",
      "Spatial orbital 1 has energy of 0.121698234354 Hartree.\n",
      "\n",
      "At bond length of 2.0 Bohr, molecular hydrogen has:\n",
      "Hartree-Fock energy of -0.783792654277 Hartree.\n",
      "MP2 energy of -0.872511876467 Hartree.\n",
      "FCI energy of -0.948641112176 Hartree.\n",
      "Nuclear repulsion energy between protons is 0.26458860546 Hartree.\n",
      "Spatial orbital 0 has energy of -0.269459223656 Hartree.\n",
      "Spatial orbital 1 has energy of 0.108997369549 Hartree.\n",
      "\n",
      "At bond length of 2.075 Bohr, molecular hydrogen has:\n",
      "Hartree-Fock energy of -0.76890514493 Hartree.\n",
      "MP2 energy of -0.865802852139 Hartree.\n",
      "FCI energy of -0.945325124834 Hartree.\n",
      "Nuclear repulsion energy between protons is 0.255025161889 Hartree.\n",
      "Spatial orbital 0 has energy of -0.259488420123 Hartree.\n",
      "Spatial orbital 1 has energy of 0.0975121876015 Hartree.\n"
     ]
    },
    {
     "name": "stderr",
     "output_type": "stream",
     "text": [
      "Warn: Ipython shell catchs sys.args\n",
      "Warn: Ipython shell catchs sys.args\n"
     ]
    },
    {
     "name": "stdout",
     "output_type": "stream",
     "text": [
      "\n",
      "At bond length of 2.15 Bohr, molecular hydrogen has:\n",
      "Hartree-Fock energy of -0.755066140849 Hartree.\n",
      "MP2 energy of -0.860559520937 Hartree.\n",
      "FCI energy of -0.942677785696 Hartree.\n",
      "Nuclear repulsion energy between protons is 0.246128935312 Hartree.\n",
      "Spatial orbital 0 has energy of -0.25018114306 Hartree.\n",
      "Spatial orbital 1 has energy of 0.0871156542694 Hartree.\n",
      "\n",
      "At bond length of 2.225 Bohr, molecular hydrogen has:\n",
      "Hartree-Fock energy of -0.742231993159 Hartree.\n",
      "MP2 energy of -0.856722791678 Hartree.\n",
      "FCI energy of -0.940578294125 Hartree.\n",
      "Nuclear repulsion energy between protons is 0.237832454346 Hartree.\n",
      "Spatial orbital 0 has energy of -0.241501099769 Hartree.\n",
      "Spatial orbital 1 has energy of 0.0776939126166 Hartree.\n"
     ]
    },
    {
     "name": "stderr",
     "output_type": "stream",
     "text": [
      "Warn: Ipython shell catchs sys.args\n",
      "Warn: Ipython shell catchs sys.args\n"
     ]
    },
    {
     "name": "stdout",
     "output_type": "stream",
     "text": [
      "\n",
      "At bond length of 2.3 Bohr, molecular hydrogen has:\n",
      "Hartree-Fock energy of -0.730353321355 Hartree.\n",
      "MP2 energy of -0.854225123201 Hartree.\n",
      "FCI energy of -0.938922385987 Hartree.\n",
      "Nuclear repulsion energy between protons is 0.230077048226 Hartree.\n",
      "Spatial orbital 0 has energy of -0.23341221005 Hartree.\n",
      "Spatial orbital 1 has energy of 0.0691449985036 Hartree.\n",
      "\n",
      "At bond length of 2.375 Bohr, molecular hydrogen has:\n",
      "Hartree-Fock energy of -0.71937741672 Hartree.\n",
      "MP2 energy of -0.852993149483 Hartree.\n",
      "FCI energy of -0.937622232412 Hartree.\n",
      "Nuclear repulsion energy between protons is 0.222811457229 Hartree.\n",
      "Spatial orbital 0 has energy of -0.225879143757 Hartree.\n",
      "Spatial orbital 1 has energy of 0.061377742722 Hartree.\n"
     ]
    },
    {
     "name": "stderr",
     "output_type": "stream",
     "text": [
      "Warn: Ipython shell catchs sys.args\n",
      "Warn: Ipython shell catchs sys.args\n"
     ]
    },
    {
     "name": "stdout",
     "output_type": "stream",
     "text": [
      "\n",
      "At bond length of 2.45 Bohr, molecular hydrogen has:\n",
      "Hartree-Fock energy of -0.709250219239 Hartree.\n",
      "MP2 energy of -0.852949830064 Hartree.\n",
      "FCI energy of -0.936605256416 Hartree.\n",
      "Nuclear repulsion energy between protons is 0.215990698335 Hartree.\n",
      "Spatial orbital 0 has energy of -0.218867775452 Hartree.\n",
      "Spatial orbital 1 has energy of 0.0543107898459 Hartree.\n",
      "\n",
      "At bond length of 2.525 Bohr, molecular hydrogen has:\n",
      "Hartree-Fock energy of -0.699917829065 Hartree.\n",
      "MP2 energy of -0.854016106823 Hartree.\n",
      "FCI energy of -0.935812374184 Hartree.\n",
      "Nuclear repulsion energy between protons is 0.209575133038 Hartree.\n",
      "Spatial orbital 0 has energy of -0.212345500745 Hartree.\n",
      "Spatial orbital 1 has energy of 0.0478716815187 Hartree.\n"
     ]
    },
    {
     "name": "stderr",
     "output_type": "stream",
     "text": [
      "Warn: Ipython shell catchs sys.args\n",
      "Warn: Ipython shell catchs sys.args\n"
     ]
    },
    {
     "name": "stdout",
     "output_type": "stream",
     "text": [
      "\n",
      "At bond length of 2.6 Bohr, molecular hydrogen has:\n",
      "Hartree-Fock energy of -0.691327561197 Hartree.\n",
      "MP2 energy of -0.856112114321 Hartree.\n",
      "FCI energy of -0.935196030847 Hartree.\n",
      "Nuclear repulsion energy between protons is 0.203529696508 Hartree.\n",
      "Spatial orbital 0 has energy of -0.2062813977 Hartree.\n",
      "Spatial orbital 1 has energy of 0.0419959755719 Hartree.\n",
      "\n",
      "At bond length of 2.675 Bohr, molecular hydrogen has:\n",
      "Hartree-Fock energy of -0.683428596297 Hartree.\n",
      "MP2 energy of -0.859158041179 Hartree.\n",
      "FCI energy of -0.934718271951 Hartree.\n",
      "Nuclear repulsion energy between protons is 0.197823256419 Hartree.\n",
      "Spatial orbital 0 has energy of -0.200646248214 Hartree.\n",
      "Spatial orbital 1 has energy of 0.0366263937864 Hartree.\n"
     ]
    },
    {
     "name": "stderr",
     "output_type": "stream",
     "text": [
      "Warn: Ipython shell catchs sys.args\n",
      "Warn: Ipython shell catchs sys.args\n"
     ]
    },
    {
     "name": "stdout",
     "output_type": "stream",
     "text": [
      "\n",
      "At bond length of 2.75 Bohr, molecular hydrogen has:\n",
      "Hartree-Fock energy of -0.676172310463 Hartree.\n",
      "MP2 energy of -0.863074762874 Hartree.\n",
      "FCI energy of -0.934348987747 Hartree.\n",
      "Nuclear repulsion energy between protons is 0.192428076698 Hartree.\n",
      "Spatial orbital 0 has energy of -0.195412454328 Hartree.\n",
      "Spatial orbital 1 has energy of 0.0317120058829 Hartree.\n",
      "\n",
      "At bond length of 2.825 Bohr, molecular hydrogen has:\n",
      "Hartree-Fock energy of -0.669512378614 Hartree.\n",
      "MP2 energy of -0.867784361057 Hartree.\n",
      "FCI energy of -0.934064392349 Hartree.\n",
      "Nuclear repulsion energy between protons is 0.187319366697 Hartree.\n",
      "Spatial orbital 0 has energy of -0.190553892381 Hartree.\n",
      "Spatial orbital 1 has energy of 0.0272074643943 Hartree.\n"
     ]
    },
    {
     "name": "stderr",
     "output_type": "stream",
     "text": [
      "Warn: Ipython shell catchs sys.args\n",
      "Warn: Ipython shell catchs sys.args\n"
     ]
    },
    {
     "name": "stdout",
     "output_type": "stream",
     "text": [
      "\n",
      "At bond length of 2.9 Bohr, molecular hydrogen has:\n",
      "Hartree-Fock energy of -0.663404741599 Hartree.\n",
      "MP2 energy of -0.873210617868 Hartree.\n",
      "FCI energy of -0.933845750779 Hartree.\n",
      "Nuclear repulsion energy between protons is 0.182474900317 Hartree.\n",
      "Spatial orbital 0 has energy of -0.186045745933 Hartree.\n",
      "Spatial orbital 1 has energy of 0.0230723055488 Hartree.\n",
      "\n",
      "At bond length of 2.975 Bohr, molecular hydrogen has:\n",
      "Hartree-Fock energy of -0.657807511304 Hartree.\n",
      "MP2 energy of -0.87927953613 Hartree.\n",
      "FCI energy of -0.933678338578 Hartree.\n",
      "Nuclear repulsion energy between protons is 0.177874692746 Hartree.\n",
      "Spatial orbital 0 has energy of -0.18186434986 Hartree.\n",
      "Spatial orbital 1 has energy of 0.0192703273508 Hartree.\n"
     ]
    },
    {
     "name": "stderr",
     "output_type": "stream",
     "text": [
      "Warn: Ipython shell catchs sys.args\n",
      "Warn: Ipython shell catchs sys.args\n"
     ]
    },
    {
     "name": "stdout",
     "output_type": "stream",
     "text": [
      "\n",
      "At bond length of 3.05 Bohr, molecular hydrogen has:\n",
      "Hartree-Fock energy of -0.652680866726 Hartree.\n",
      "MP2 energy of -0.885919898164 Hartree.\n",
      "FCI energy of -0.933550604948 Hartree.\n",
      "Nuclear repulsion energy between protons is 0.173500724892 Hartree.\n",
      "Spatial orbital 0 has energy of -0.177987066597 Hartree.\n",
      "Spatial orbital 1 has energy of 0.0157690500134 Hartree.\n",
      "\n",
      "At bond length of 3.125 Bohr, molecular hydrogen has:\n",
      "Hartree-Fock energy of -0.647986972272 Hartree.\n",
      "MP2 energy of -0.893063845078 Hartree.\n",
      "FCI energy of -0.933453506176 Hartree.\n",
      "Nuclear repulsion energy between protons is 0.169336707494 Hartree.\n",
      "Spatial orbital 0 has energy of -0.174392204073 Hartree.\n",
      "Spatial orbital 1 has energy of 0.0125392576825 Hartree.\n"
     ]
    },
    {
     "name": "stderr",
     "output_type": "stream",
     "text": [
      "Warn: Ipython shell catchs sys.args\n",
      "Warn: Ipython shell catchs sys.args\n"
     ]
    },
    {
     "name": "stdout",
     "output_type": "stream",
     "text": [
      "\n",
      "At bond length of 3.2 Bohr, molecular hydrogen has:\n",
      "Hartree-Fock energy of -0.643689931023 Hartree.\n",
      "MP2 energy of -0.900647439214 Hartree.\n",
      "FCI energy of -0.933379977349 Hartree.\n",
      "Nuclear repulsion energy between protons is 0.165367878413 Hartree.\n",
      "Spatial orbital 0 has energy of -0.171058975462 Hartree.\n",
      "Spatial orbital 1 has energy of 0.00955461527119 Hartree.\n"
     ]
    },
    {
     "data": {
      "image/png": "[encoded data removed]",
      "text/plain": [
       "<matplotlib.figure.Figure at 0x7fcca05f0cd0>"
      ]
     },
     "metadata": {},
     "output_type": "display_data"
    }
   ],
   "source": [
    "from fermilib.utils import MolecularData\n",
    "from fermilibpluginpyscf import run_pyscf\n",
    "\n",
    "# Set molecule parameters.\n",
    "basis = 'sto-3g'\n",
    "multiplicity = 1\n",
    "n_points = 40\n",
    "bond_length_interval = 3.0 / n_points\n",
    "\n",
    "# Set calculation parameters.\n",
    "run_scf = 1\n",
    "run_mp2 = 1\n",
    "run_cisd = 0\n",
    "run_ccsd = 0\n",
    "run_fci = 1\n",
    "delete_input = True\n",
    "delete_output = True\n",
    "\n",
    "# Generate molecule at different bond lengths.\n",
    "hf_energies = []\n",
    "fci_energies = []\n",
    "bond_lengths = []\n",
    "for point in range(1, n_points + 1):\n",
    "    bond_length = bond_length_interval * float(point) + 0.2\n",
    "    bond_lengths += [bond_length]\n",
    "    geometry = [('H', (0., 0., 0.)), ('H', (0., 0., bond_length))]\n",
    "    molecule = MolecularData(\n",
    "        geometry, basis, multiplicity,\n",
    "        description=str(round(bond_length, 2)))\n",
    "    \n",
    "    # Run pyscf.\n",
    "    molecule = run_pyscf(molecule,\n",
    "                         run_scf=run_scf,\n",
    "                         run_mp2=run_mp2,\n",
    "                         run_cisd=run_cisd,\n",
    "                         run_ccsd=run_ccsd,\n",
    "                         run_fci=run_fci)\n",
    "\n",
    "    # Print out some results of calculation.\n",
    "    print('\\nAt bond length of {} Bohr, molecular hydrogen has:'.format(\n",
    "        bond_length))\n",
    "    print('Hartree-Fock energy of {} Hartree.'.format(molecule.hf_energy))\n",
    "    print('MP2 energy of {} Hartree.'.format(molecule.mp2_energy))\n",
    "    print('FCI energy of {} Hartree.'.format(molecule.fci_energy))\n",
    "    print('Nuclear repulsion energy between protons is {} Hartree.'.format(\n",
    "        molecule.nuclear_repulsion))\n",
    "    for orbital in range(molecule.n_orbitals):\n",
    "        print('Spatial orbital {} has energy of {} Hartree.'.format(\n",
    "            orbital, molecule.orbital_energies[orbital]))\n",
    "    hf_energies += [molecule.hf_energy]\n",
    "    fci_energies += [molecule.fci_energy]\n",
    "\n",
    "# Plot.\n",
    "import matplotlib.pyplot as plt\n",
    "%matplotlib inline\n",
    "\n",
    "plt.figure(0)\n",
    "plt.plot(bond_lengths, fci_energies, 'x-')\n",
    "plt.plot(bond_lengths, hf_energies, 'o-')\n",
    "plt.ylabel('Energy in Hartree')\n",
    "plt.xlabel('Bond length in Bohr')\n",
    "plt.show()"
   ]
  }
 ],
 "metadata": {
  "anaconda-cloud": {},
  "kernelspec": {
   "display_name": "Python 2",
   "language": "python",
   "name": "python2"
  },
  "language_info": {
   "codemirror_mode": {
    "name": "ipython",
    "version": 2
   },
   "file_extension": ".py",
   "mimetype": "text/x-python",
   "name": "python",
   "nbconvert_exporter": "python",
   "pygments_lexer": "ipython2",
   "version": "2.7.13"
  }
 },
 "nbformat": 4,
 "nbformat_minor": 1
}
